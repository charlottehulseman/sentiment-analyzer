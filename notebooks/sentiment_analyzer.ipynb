{
 "cells": [
  {
   "cell_type": "code",
   "execution_count": 4,
   "metadata": {},
   "outputs": [],
   "source": [
    "# Imports\n",
    "\n",
    "import pandas as pd\n",
    "import torch\n",
    "import sys\n",
    "import os\n",
    "import random\n",
    "import matplotlib.pyplot as plt\n",
    "import numpy as np\n",
    "# absolute path of the project root directory\n",
    "project_root = os.path.abspath(os.path.join(os.getcwd(), '..'))\n",
    "sys.path.insert(0, project_root)\n",
    "from src.data_loader import load_data, preprocess_data\n",
    "\n",
    "from sklearn.feature_extraction.text import TfidfVectorizer\n",
    "from sklearn.model_selection import train_test_split\n",
    "from sklearn.linear_model import LogisticRegression\n",
    "from sklearn.metrics import classification_report, confusion_matrix\n",
    "from transformers import DistilBertTokenizer, DistilBertForSequenceClassification, AdamW\n",
    "from torch.utils.data import DataLoader, Dataset\n",
    "from torch.optim.lr_scheduler import StepLR\n",
    "from tqdm.notebook import tqdm"
   ]
  },
  {
   "cell_type": "code",
   "execution_count": 5,
   "metadata": {},
   "outputs": [
    {
     "name": "stdout",
     "output_type": "stream",
     "text": [
      "Sample of the data:\n",
      "                                                reviewText sentiment\n",
      "3432959  This tablet holder is well built and functions...  positive\n",
      "1881546  This cable works far better than I expected.  ...  positive\n",
      "2320852  Haven't really noticed weather this is doing w...  positive\n",
      "5436604  Great board.  After BIOS update that it.  I us...  positive\n",
      "1806143                                    Nice protection  positive\n"
     ]
    }
   ],
   "source": [
    "# load dataset and preprocess sample of 10,000 rows of data\n",
    "data_path = '../data/Electronics_5.json.gz'\n",
    "full_df = load_data(data_path)\n",
    "\n",
    "df_sample = full_df.sample(n=10000, random_state=42)\n",
    "df_sample = preprocess_data(df_sample)\n",
    "\n",
    "# display 5 random rows\n",
    "print(\"Sample of the data:\")\n",
    "print(df_sample.sample(5))"
   ]
  },
  {
   "cell_type": "code",
   "execution_count": 6,
   "metadata": {},
   "outputs": [],
   "source": [
    "# drop rows where reviewText is NaN\n",
    "df_sample = df_sample.dropna(subset=['reviewText'])\n",
    "\n",
    "# vectorize review text\n",
    "tfidf = TfidfVectorizer(max_features=5000)\n",
    "X = tfidf.fit_transform(df_sample['reviewText'])\n",
    "y = df_sample['sentiment']"
   ]
  },
  {
   "cell_type": "code",
   "execution_count": 7,
   "metadata": {},
   "outputs": [],
   "source": [
    "# split training and testing data\n",
    "X_train, X_test, y_train, y_test = train_test_split(X, y, test_size=0.2, random_state=42)"
   ]
  },
  {
   "cell_type": "code",
   "execution_count": 8,
   "metadata": {},
   "outputs": [
    {
     "name": "stdout",
     "output_type": "stream",
     "text": [
      "              precision    recall  f1-score   support\n",
      "\n",
      "    negative       0.74      0.40      0.52       235\n",
      "     neutral       0.30      0.02      0.04       145\n",
      "    positive       0.86      0.99      0.92      1619\n",
      "\n",
      "    accuracy                           0.85      1999\n",
      "   macro avg       0.63      0.47      0.49      1999\n",
      "weighted avg       0.80      0.85      0.81      1999\n",
      "\n"
     ]
    }
   ],
   "source": [
    "# use Logistic Regression for model training\n",
    "model = LogisticRegression(max_iter=1000)\n",
    "model.fit(X_train, y_train)\n",
    "\n",
    "y_pred = model.predict(X_test)\n",
    "print(classification_report(y_test, y_pred))"
   ]
  },
  {
   "cell_type": "code",
   "execution_count": 9,
   "metadata": {},
   "outputs": [],
   "source": [
    "class SentimentDataset(Dataset):\n",
    "    def __init__(self, texts, labels, tokenizer, max_len):\n",
    "        self.texts = texts\n",
    "        self.labels = labels\n",
    "        self.tokenizer = tokenizer\n",
    "        self.max_len = max_len\n",
    "\n",
    "    def __len__(self):\n",
    "        return len(self.texts)\n",
    "\n",
    "    def __getitem__(self, idx):\n",
    "        text = self.texts[idx]\n",
    "        label = self.labels[idx]\n",
    "        encoding = self.tokenizer.encode_plus(\n",
    "            text, max_length=self.max_len, truncation=True,\n",
    "            padding='max_length', return_tensors='pt'\n",
    "        )\n",
    "        return {\n",
    "            'input_ids': encoding['input_ids'].squeeze(0),\n",
    "            'attention_mask': encoding['attention_mask'].squeeze(0),\n",
    "            'labels': torch.tensor(label, dtype=torch.long)\n",
    "        }\n",
    "\n",
    "def create_dataloader(df, tokenizer, max_len, batch_size):\n",
    "    dataset = SentimentDataset(\n",
    "        texts=df['reviewText'].tolist(),\n",
    "        labels=df['sentiment'].replace({'positive': 2, 'neutral': 1, 'negative': 0}).tolist(),\n",
    "        tokenizer=tokenizer,\n",
    "        max_len=max_len\n",
    "    )\n",
    "    return DataLoader(dataset, batch_size=batch_size, shuffle=True)\n",
    "\n",
    "def load_distilbert_model():\n",
    "    tokenizer = DistilBertTokenizer.from_pretrained('distilbert-base-uncased')\n",
    "    model = DistilBertForSequenceClassification.from_pretrained('distilbert-base-uncased', num_labels=3)\n",
    "    return tokenizer, model"
   ]
  },
  {
   "cell_type": "code",
   "execution_count": 10,
   "metadata": {},
   "outputs": [
    {
     "name": "stdout",
     "output_type": "stream",
     "text": [
      "Using device: mps\n"
     ]
    }
   ],
   "source": [
    "# device config\n",
    "device = torch.device(\n",
    "    \"cuda\" if torch.cuda.is_available() \n",
    "    else \"mps\" if torch.backends.mps.is_available()  # For Mac M1/M2 users\n",
    "    else \"cpu\"\n",
    ")\n",
    "print(f\"Using device: {device}\")"
   ]
  },
  {
   "cell_type": "code",
   "execution_count": 11,
   "metadata": {},
   "outputs": [
    {
     "name": "stderr",
     "output_type": "stream",
     "text": [
      "Some weights of DistilBertForSequenceClassification were not initialized from the model checkpoint at distilbert-base-uncased and are newly initialized: ['classifier.bias', 'classifier.weight', 'pre_classifier.bias', 'pre_classifier.weight']\n",
      "You should probably TRAIN this model on a down-stream task to be able to use it for predictions and inference.\n",
      "/var/folders/fg/rs2ldmzd1d7bbxjkqpsbjt500000gn/T/ipykernel_92284/233358881.py:27: FutureWarning: Downcasting behavior in `replace` is deprecated and will be removed in a future version. To retain the old behavior, explicitly call `result.infer_objects(copy=False)`. To opt-in to the future behavior, set `pd.set_option('future.no_silent_downcasting', True)`\n",
      "  labels=df['sentiment'].replace({'positive': 2, 'neutral': 1, 'negative': 0}).tolist(),\n",
      "/opt/anaconda3/envs/sentiment_analyzer/lib/python3.11/site-packages/transformers/optimization.py:591: FutureWarning: This implementation of AdamW is deprecated and will be removed in a future version. Use the PyTorch implementation torch.optim.AdamW instead, or set `no_deprecation_warning=True` to disable this warning\n",
      "  warnings.warn(\n"
     ]
    },
    {
     "data": {
      "application/vnd.jupyter.widget-view+json": {
       "model_id": "6b4b22a7c4044b38a6a150bb5787a9c7",
       "version_major": 2,
       "version_minor": 0
      },
      "text/plain": [
       "Epoch 1:   0%|          | 0/625 [00:00<?, ?it/s]"
      ]
     },
     "metadata": {},
     "output_type": "display_data"
    },
    {
     "name": "stdout",
     "output_type": "stream",
     "text": [
      "Epoch 1, Loss: 0.3905614971756935\n"
     ]
    },
    {
     "data": {
      "application/vnd.jupyter.widget-view+json": {
       "model_id": "8f0c1da7a9ff4ed9ab21a95e377ea4a4",
       "version_major": 2,
       "version_minor": 0
      },
      "text/plain": [
       "Epoch 2:   0%|          | 0/625 [00:00<?, ?it/s]"
      ]
     },
     "metadata": {},
     "output_type": "display_data"
    },
    {
     "name": "stdout",
     "output_type": "stream",
     "text": [
      "Epoch 2, Loss: 0.25306937140226365\n"
     ]
    },
    {
     "data": {
      "application/vnd.jupyter.widget-view+json": {
       "model_id": "d513636dcda345b2bca1efb24d130ec3",
       "version_major": 2,
       "version_minor": 0
      },
      "text/plain": [
       "Epoch 3:   0%|          | 0/625 [00:00<?, ?it/s]"
      ]
     },
     "metadata": {},
     "output_type": "display_data"
    },
    {
     "name": "stdout",
     "output_type": "stream",
     "text": [
      "Epoch 3, Loss: 0.17196662685126066\n"
     ]
    },
    {
     "data": {
      "application/vnd.jupyter.widget-view+json": {
       "model_id": "20a72665e4ae451eb852a70a3c1f7fd3",
       "version_major": 2,
       "version_minor": 0
      },
      "text/plain": [
       "Epoch 4:   0%|          | 0/625 [00:00<?, ?it/s]"
      ]
     },
     "metadata": {},
     "output_type": "display_data"
    },
    {
     "name": "stdout",
     "output_type": "stream",
     "text": [
      "Epoch 4, Loss: 0.11872472215313465\n"
     ]
    },
    {
     "data": {
      "application/vnd.jupyter.widget-view+json": {
       "model_id": "c640a1bce4344688b75891b9cdd6bf2f",
       "version_major": 2,
       "version_minor": 0
      },
      "text/plain": [
       "Epoch 5:   0%|          | 0/625 [00:00<?, ?it/s]"
      ]
     },
     "metadata": {},
     "output_type": "display_data"
    },
    {
     "name": "stdout",
     "output_type": "stream",
     "text": [
      "Epoch 5, Loss: 0.08021415469348431\n"
     ]
    },
    {
     "data": {
      "application/vnd.jupyter.widget-view+json": {
       "model_id": "bb1b48e9f3dd410a9ef323710a19709c",
       "version_major": 2,
       "version_minor": 0
      },
      "text/plain": [
       "Epoch 6:   0%|          | 0/625 [00:00<?, ?it/s]"
      ]
     },
     "metadata": {},
     "output_type": "display_data"
    },
    {
     "name": "stdout",
     "output_type": "stream",
     "text": [
      "Epoch 6, Loss: 0.0621736615116708\n"
     ]
    }
   ],
   "source": [
    "# load tokenizer and model\n",
    "tokenizer, model = load_distilbert_model()\n",
    "model = model.to(device)\n",
    "\n",
    "# dataloader\n",
    "train_loader = create_dataloader(df_sample, tokenizer, max_len=256, batch_size=16)\n",
    "\n",
    "# optimizer / scheduler\n",
    "optimizer = AdamW(model.parameters(), lr=2e-5)\n",
    "scheduler = StepLR(optimizer, step_size=5, gamma=0.1)\n",
    "\n",
    "# training loop\n",
    "for epoch in range(6):\n",
    "    model.train()\n",
    "    total_loss = 0\n",
    "    for batch in tqdm(train_loader, desc=f\"Epoch {epoch+1}\"):\n",
    "        input_ids = batch['input_ids'].to(device)\n",
    "        attention_mask = batch['attention_mask'].to(device)\n",
    "        labels = batch['labels'].to(device)\n",
    "\n",
    "        outputs = model(input_ids, attention_mask=attention_mask, labels=labels)\n",
    "        loss = outputs.loss\n",
    "\n",
    "        optimizer.zero_grad()\n",
    "        loss.backward()\n",
    "        optimizer.step()\n",
    "\n",
    "        total_loss += loss.item()\n",
    "\n",
    "    print(f\"Epoch {epoch+1}, Loss: {total_loss / len(train_loader)}\")"
   ]
  },
  {
   "cell_type": "code",
   "execution_count": 12,
   "metadata": {},
   "outputs": [
    {
     "name": "stderr",
     "output_type": "stream",
     "text": [
      "/var/folders/fg/rs2ldmzd1d7bbxjkqpsbjt500000gn/T/ipykernel_92284/233358881.py:27: FutureWarning: Downcasting behavior in `replace` is deprecated and will be removed in a future version. To retain the old behavior, explicitly call `result.infer_objects(copy=False)`. To opt-in to the future behavior, set `pd.set_option('future.no_silent_downcasting', True)`\n",
      "  labels=df['sentiment'].replace({'positive': 2, 'neutral': 1, 'negative': 0}).tolist(),\n"
     ]
    }
   ],
   "source": [
    "# Split the data\n",
    "train_df, test_df = train_test_split(df_sample, test_size=0.2, random_state=42)\n",
    "\n",
    "# Create test DataLoader\n",
    "test_loader = create_dataloader(test_df, tokenizer, max_len=128, batch_size=8)"
   ]
  },
  {
   "cell_type": "code",
   "execution_count": 13,
   "metadata": {},
   "outputs": [
    {
     "name": "stdout",
     "output_type": "stream",
     "text": [
      "              precision    recall  f1-score   support\n",
      "\n",
      "    negative       0.95      0.96      0.95       235\n",
      "     neutral       0.88      0.85      0.87       145\n",
      "    positive       0.99      0.99      0.99      1619\n",
      "\n",
      "    accuracy                           0.97      1999\n",
      "   macro avg       0.94      0.93      0.94      1999\n",
      "weighted avg       0.97      0.97      0.97      1999\n",
      "\n"
     ]
    }
   ],
   "source": [
    "# Store predictions and true labels\n",
    "all_preds = []\n",
    "all_labels = []\n",
    "\n",
    "model.eval()  # Set model to evaluation mode\n",
    "with torch.no_grad():\n",
    "    for batch in test_loader:\n",
    "        input_ids = batch['input_ids'].to(device)\n",
    "        attention_mask = batch['attention_mask'].to(device)\n",
    "        labels = batch['labels'].to(device)\n",
    "\n",
    "        # Get predictions\n",
    "        outputs = model(input_ids, attention_mask=attention_mask)\n",
    "        preds = torch.argmax(outputs.logits, dim=1)\n",
    "\n",
    "        # Store results\n",
    "        all_preds.extend(preds.cpu().numpy())\n",
    "        all_labels.extend(labels.cpu().numpy())\n",
    "\n",
    "# Convert predictions and labels to sentiment labels\n",
    "label_map = {0: 'negative', 1: 'neutral', 2: 'positive'}\n",
    "pred_sentiments = [label_map[pred] for pred in all_preds]\n",
    "true_sentiments = [label_map[label] for label in all_labels]\n",
    "\n",
    "# Show classification report\n",
    "print(classification_report(true_sentiments, pred_sentiments))"
   ]
  },
  {
   "cell_type": "code",
   "execution_count": 14,
   "metadata": {},
   "outputs": [
    {
     "name": "stdout",
     "output_type": "stream",
     "text": [
      "Review: Mine is already breaking after a few weeks of use. It has very cheap legs that get STUCK when you extend them. Very annoying\n",
      "\n",
      "UPDATE: NOW THE BALL HEAD IS BROKEN AND WON'T HOLD MY CAMERA UP!! So the tripod is effectively USELESS!! COMPLETE WASTE OF $160!!!!!!\n",
      "Actual Sentiment: negative\n",
      "Predicted Sentiment: negative\n",
      "--------------------------------------------------------------------------------\n",
      "Review: It is still fairly new for me, but definitely met my expectations.  Windows 7 Pro Performs nicely and the equipment seems well designed and built by Lenovo.  Too new to review reliability.\n",
      "Actual Sentiment: positive\n",
      "Predicted Sentiment: positive\n",
      "--------------------------------------------------------------------------------\n",
      "Review: This is an average mp3 player but not so good when compared to previous iterations (I've owned a Clip+ and a Clip zip, both  being awesome players). I bought this for my girlfriend and it's OK for her intended use (easy to use low-cost mp3) and it comes with decent flat ribbon earbuds with additional rubbery thingies. BUT even with the latest firmware she has complained about it locking-up every week or so and general sluggishness. It even has a buggy not-so-random shuffle mode (something that also plagued previous zip players but was easily corrected by loading alternate firmware rockbox). For the money I paid for the 8GB it's an OK mp3 to give away but personally I'd stick to previous versions, as this looks as a half-baked product from Sandisk. Keep in mind this won't be getting rockbox support anytime soon.\n",
      "Actual Sentiment: neutral\n",
      "Predicted Sentiment: neutral\n",
      "--------------------------------------------------------------------------------\n",
      "Review: required equipment for my job....don't like dymo or whatever that cheap company is...P-Touch is the best\n",
      "Actual Sentiment: positive\n",
      "Predicted Sentiment: positive\n",
      "--------------------------------------------------------------------------------\n",
      "Review: Wow!  Super powerful.  Our boys ages 5, 7, and 9 love them!\n",
      "Actual Sentiment: positive\n",
      "Predicted Sentiment: positive\n",
      "--------------------------------------------------------------------------------\n"
     ]
    }
   ],
   "source": [
    "# Randomly pick 5 reviews from the test set\n",
    "sample_indices = random.sample(range(len(test_df)), 5)\n",
    "sample_reviews = test_df.iloc[sample_indices]\n",
    "\n",
    "# Predict the sentiment for these reviews\n",
    "for i, row in sample_reviews.iterrows():\n",
    "    input_ids = tokenizer.encode(row['reviewText'], truncation=True, padding='max_length', max_length=128, return_tensors='pt').to(device)\n",
    "    \n",
    "    # Get prediction\n",
    "    output = model(input_ids, attention_mask=(input_ids > 0).int())\n",
    "    pred_label = torch.argmax(output.logits, dim=1).item()\n",
    "    \n",
    "    print(f\"Review: {row['reviewText']}\")\n",
    "    print(f\"Actual Sentiment: {row['sentiment']}\")\n",
    "    print(f\"Predicted Sentiment: {label_map[pred_label]}\")\n",
    "    print(\"-\" * 80)"
   ]
  },
  {
   "cell_type": "code",
   "execution_count": 15,
   "metadata": {},
   "outputs": [
    {
     "data": {
      "image/png": "[encoded data removed]",
      "text/plain": [
       "<Figure size 800x600 with 2 Axes>"
      ]
     },
     "metadata": {},
     "output_type": "display_data"
    }
   ],
   "source": [
    "import seaborn as sns\n",
    "import matplotlib.pyplot as plt\n",
    "from sklearn.metrics import confusion_matrix\n",
    "\n",
    "# Compute confusion matrix\n",
    "cm = confusion_matrix(true_sentiments, pred_sentiments, labels=['negative', 'neutral', 'positive'])\n",
    "\n",
    "# Plot the matrix\n",
    "plt.figure(figsize=(8, 6))\n",
    "sns.heatmap(cm, annot=True, fmt='d', xticklabels=['negative', 'neutral', 'positive'], yticklabels=['negative', 'neutral', 'positive'])\n",
    "plt.xlabel('Predicted')\n",
    "plt.ylabel('Actual')\n",
    "plt.title('Confusion Matrix')\n",
    "plt.show()"
   ]
  },
  {
   "cell_type": "code",
   "execution_count": 16,
   "metadata": {},
   "outputs": [
    {
     "data": {
      "text/plain": [
       "('./sentimental_reviews_model/tokenizer_config.json',\n",
       " './sentimental_reviews_model/special_tokens_map.json',\n",
       " './sentimental_reviews_model/vocab.txt',\n",
       " './sentimental_reviews_model/added_tokens.json')"
      ]
     },
     "execution_count": 16,
     "metadata": {},
     "output_type": "execute_result"
    }
   ],
   "source": [
    "model.save_pretrained(\"./sentimental_reviews_model\")\n",
    "tokenizer.save_pretrained(\"./sentimental_reviews_model\")"
   ]
  },
  {
   "cell_type": "code",
   "execution_count": 17,
   "metadata": {},
   "outputs": [
    {
     "name": "stdout",
     "output_type": "stream",
     "text": [
      "Top 10 words for Negative Sentiment:\n",
      " sentiment  Negative   Neutral  Positive\n",
      "the        0.119048  0.127753  0.086613\n",
      "it         0.082890  0.085368  0.062856\n",
      "to         0.068624  0.072375  0.055020\n",
      "and        0.058597  0.051706  0.060506\n",
      "not        0.056666  0.045585  0.016894\n",
      "is         0.046508  0.053580  0.039125\n",
      "this       0.043926  0.037784  0.037431\n",
      "of         0.042578  0.039835  0.030137\n",
      "for        0.034966  0.046655  0.040585\n",
      "was        0.034161  0.023381  0.020163\n",
      "\n",
      "Top 10 words for Neutral Sentiment:\n",
      " sentiment  Negative   Neutral  Positive\n",
      "the        0.119048  0.127753  0.086613\n",
      "it         0.082890  0.085368  0.062856\n",
      "to         0.068624  0.072375  0.055020\n",
      "is         0.046508  0.053580  0.039125\n",
      "and        0.058597  0.051706  0.060506\n",
      "for        0.034966  0.046655  0.040585\n",
      "but        0.031142  0.045776  0.020579\n",
      "not        0.056666  0.045585  0.016894\n",
      "of         0.042578  0.039835  0.030137\n",
      "this       0.043926  0.037784  0.037431\n",
      "\n",
      "Top 10 words for Positive Sentiment:\n",
      " sentiment  Negative   Neutral  Positive\n",
      "the        0.119048  0.127753  0.086613\n",
      "it         0.082890  0.085368  0.062856\n",
      "and        0.058597  0.051706  0.060506\n",
      "great      0.006870  0.015202  0.055606\n",
      "to         0.068624  0.072375  0.055020\n",
      "works      0.006141  0.018872  0.043617\n",
      "for        0.034966  0.046655  0.040585\n",
      "is         0.046508  0.053580  0.039125\n",
      "good       0.011754  0.030047  0.038734\n",
      "this       0.043926  0.037784  0.037431\n"
     ]
    }
   ],
   "source": [
    "\n",
    "# Convert the TF-IDF matrix to an array\n",
    "tfidf_array = X.toarray()\n",
    "\n",
    "# Create a DataFrame mapping each word to its TF-IDF scores\n",
    "tfidf_df = pd.DataFrame(tfidf_array, columns=tfidf.get_feature_names_out())\n",
    "tfidf_df['sentiment'] = y.values\n",
    "\n",
    "# Compute the average TF-IDF score per word, grouped by sentiment\n",
    "word_importance = (\n",
    "    tfidf_df.groupby('sentiment').mean().T\n",
    "    .rename(columns={'negative': 'Negative', 'neutral': 'Neutral', 'positive': 'Positive'})\n",
    ")\n",
    "\n",
    "# Find the most important words for each sentiment\n",
    "top_negative = word_importance.sort_values('Negative', ascending=False).head(10)\n",
    "top_neutral = word_importance.sort_values('Neutral', ascending=False).head(10)\n",
    "top_positive = word_importance.sort_values('Positive', ascending=False).head(10)\n",
    "\n",
    "print(\"Top 10 words for Negative Sentiment:\\n\", top_negative)\n",
    "print(\"\\nTop 10 words for Neutral Sentiment:\\n\", top_neutral)\n",
    "print(\"\\nTop 10 words for Positive Sentiment:\\n\", top_positive)"
   ]
  },
  {
   "cell_type": "code",
   "execution_count": 18,
   "metadata": {},
   "outputs": [
    {
     "data": {
      "image/png": "[encoded data removed]",
      "text/plain": [
       "<Figure size 800x500 with 1 Axes>"
      ]
     },
     "metadata": {},
     "output_type": "display_data"
    },
    {
     "data": {
      "image/png": "[encoded data removed]",
      "text/plain": [
       "<Figure size 800x500 with 1 Axes>"
      ]
     },
     "metadata": {},
     "output_type": "display_data"
    },
    {
     "data": {
      "image/png": "[encoded data removed]",
      "text/plain": [
       "<Figure size 800x500 with 1 Axes>"
      ]
     },
     "metadata": {},
     "output_type": "display_data"
    }
   ],
   "source": [
    "top_words = {\n",
    "    'Negative': top_negative,\n",
    "    'Neutral': top_neutral,\n",
    "    'Positive': top_positive\n",
    "}\n",
    "\n",
    "for sentiment, data in top_words.items():\n",
    "    plt.figure(figsize=(8, 5))\n",
    "    plt.barh(data.index, data[sentiment], color='skyblue')\n",
    "    plt.xlabel('Average TF-IDF Score')\n",
    "    plt.title(f'Top 10 Words for {sentiment} Sentiment')\n",
    "    plt.gca().invert_yaxis()  # Invert y-axis to have the highest score at the top\n",
    "    plt.show()"
   ]
  },
  {
   "cell_type": "code",
   "execution_count": 19,
   "metadata": {},
   "outputs": [
    {
     "name": "stdout",
     "output_type": "stream",
     "text": [
      "Review: I received the item promptly, opened the box, it appeared as if it had been opened and used before. Installed the battery and attempted to charge it. After the recomended two hours as stated in the instructions I removed the unit from chariging cord and tried to turn it on. It did NOT work. I plugged it back in and tried again, it came on only when plugged in to power. I checked the battery with a Volt/Ohm meter and the battery was charged but appearantly the fault was in the camera. Be cautious the units at vastly reduced prices from unreliable sources. FGorunatly it was honored for return by Amazon A to Z and they paid for retun shipping and said they would credit back my money... We will see.\n",
      "Heuristic Prediction: negative\n",
      "--------------------------------------------------------------------------------\n",
      "Review: I am currently using 5 different HDMI cables, ranging in price from a few cents up to $40 dollars. One thing I have learned is that price doesn't matter, they all do the same thing.\n",
      "\n",
      "All of my cables are approximately the same age (around 2 years or so), and the Dynex is the only one that has stopped working so far. Of all the cabling in my home theater set up, I have never had another cable just stop working except for this one.\n",
      "\n",
      "2 years is hardly a long period of time for a cable, so I was disappointed when I turned on my HD DVD player last night, only to discover (after about 10 minutes of trouble shooting) that this cable was no longer working. I switched the player's cable (the Dynex) with the cable from my Blu-ray player, and the one from my cable box, and both of the others worked, so I know for sure the Dynex cable is bad. I also tried running my Blu-ray player with this cable to be sure, and it is definitely the cable.\n",
      "\n",
      "I paid $40 for this cable at Best Buy (before I knew better), so I'm pretty unhappy that it is the only one that has stopped working at this point.\n",
      "\n",
      "I gave it 2 stars b/c it did work well while it was functioning, but replacing cables every 2 years or so isn't something you should have to worry about.\n",
      "Heuristic Prediction: negative\n",
      "--------------------------------------------------------------------------------\n",
      "Review: A huge problem is if you change the channel and go back to hdmi it will restart your xbox 360. I can't really tell a difference in quality.\n",
      "Heuristic Prediction: neutral\n",
      "--------------------------------------------------------------------------------\n",
      "Review: I like the starry night design, but the case itself is just OK.  I cannot get it to stand up worth a darn and it's kind of a pain to use.  I will probably go back to my old case.  This fit my ipad pro fine, though... just doesn't stand it up like it should.\n",
      "Heuristic Prediction: negative\n",
      "--------------------------------------------------------------------------------\n",
      "Review: STRONG AND FLEXABLE!\n",
      "Heuristic Prediction: neutral\n",
      "--------------------------------------------------------------------------------\n"
     ]
    }
   ],
   "source": [
    "positive_words = set(top_positive.index)\n",
    "negative_words = set(top_negative.index)\n",
    "\n",
    "def heuristic_classifier(text):\n",
    "    words = set(text.lower().split())\n",
    "    if len(words & positive_words) > len(words & negative_words):\n",
    "        return 'positive'\n",
    "    elif len(words & negative_words) > len(words & positive_words):\n",
    "        return 'negative'\n",
    "    else:\n",
    "        return 'neutral'\n",
    "\n",
    "# Test the heuristic classifier\n",
    "sample_reviews = test_df['reviewText'].sample(5).tolist()\n",
    "for review in sample_reviews:\n",
    "    print(\"Review:\", review)\n",
    "    print(\"Heuristic Prediction:\", heuristic_classifier(review))\n",
    "    print(\"-\" * 80)"
   ]
  },
  {
   "cell_type": "code",
   "execution_count": 20,
   "metadata": {},
   "outputs": [
    {
     "data": {
      "text/plain": [
       "('./results/sentimental_reviews_model/tokenizer_config.json',\n",
       " './results/sentimental_reviews_model/special_tokens_map.json',\n",
       " './results/sentimental_reviews_model/vocab.txt',\n",
       " './results/sentimental_reviews_model/added_tokens.json')"
      ]
     },
     "execution_count": 20,
     "metadata": {},
     "output_type": "execute_result"
    }
   ],
   "source": [
    "model.save_pretrained(\"./results/sentimental_reviews_model\")\n",
    "tokenizer.save_pretrained(\"./results/sentimental_reviews_model\")"
   ]
  },
  {
   "cell_type": "code",
   "execution_count": 21,
   "metadata": {},
   "outputs": [],
   "source": [
    "top_negative.to_csv('./results/top_negative_words.csv')\n",
    "top_neutral.to_csv('./results/top_neutral_words.csv')\n",
    "top_positive.to_csv('./results/top_positive_words.csv')"
   ]
  }
 ],
 "metadata": {
  "kernelspec": {
   "display_name": "sentiment_analyzer",
   "language": "python",
   "name": "python3"
  },
  "language_info": {
   "codemirror_mode": {
    "name": "ipython",
    "version": 3
   },
   "file_extension": ".py",
   "mimetype": "text/x-python",
   "name": "python",
   "nbconvert_exporter": "python",
   "pygments_lexer": "ipython3",
   "version": "3.11.9"
  }
 },
 "nbformat": 4,
 "nbformat_minor": 2
}
